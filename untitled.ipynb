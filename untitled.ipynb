{
 "cells": [
  {
   "cell_type": "code",
   "execution_count": 1,
   "metadata": {},
   "outputs": [],
   "source": [
    "# import important libraries\n",
    "\n",
    "import numpy as np\n",
    "import pandas as pd\n",
    "import matplotlib.pyplot as plt"
   ]
  },
  {
   "cell_type": "code",
   "execution_count": 2,
   "metadata": {},
   "outputs": [],
   "source": [
    "# load the data\n",
    "data = pd.read_csv('retail_store_sales.csv')"
   ]
  },
  {
   "cell_type": "code",
   "execution_count": 3,
   "metadata": {},
   "outputs": [
    {
     "data": {
      "application/vnd.microsoft.datawrangler.viewer.v0+json": {
       "columns": [
        {
         "name": "index",
         "rawType": "int64",
         "type": "integer"
        },
        {
         "name": "Transaction ID",
         "rawType": "object",
         "type": "string"
        },
        {
         "name": "Customer ID",
         "rawType": "object",
         "type": "string"
        },
        {
         "name": "Category",
         "rawType": "object",
         "type": "string"
        },
        {
         "name": "Item",
         "rawType": "object",
         "type": "unknown"
        },
        {
         "name": "Price Per Unit",
         "rawType": "float64",
         "type": "float"
        },
        {
         "name": "Quantity",
         "rawType": "float64",
         "type": "float"
        },
        {
         "name": "Total Spent",
         "rawType": "float64",
         "type": "float"
        },
        {
         "name": "Payment Method",
         "rawType": "object",
         "type": "string"
        },
        {
         "name": "Location",
         "rawType": "object",
         "type": "string"
        },
        {
         "name": "Transaction Date",
         "rawType": "object",
         "type": "string"
        },
        {
         "name": "Discount Applied",
         "rawType": "object",
         "type": "unknown"
        }
       ],
       "conversionMethod": "pd.DataFrame",
       "ref": "ae28357e-45ef-4a40-9a3d-6f9bd9874343",
       "rows": [
        [
         "0",
         "TXN_6867343",
         "CUST_09",
         "Patisserie",
         "Item_10_PAT",
         "18.5",
         "10.0",
         "185.0",
         "Digital Wallet",
         "Online",
         "2024-04-08",
         "True"
        ],
        [
         "1",
         "TXN_3731986",
         "CUST_22",
         "Milk Products",
         "Item_17_MILK",
         "29.0",
         "9.0",
         "261.0",
         "Digital Wallet",
         "Online",
         "2023-07-23",
         "True"
        ],
        [
         "2",
         "TXN_9303719",
         "CUST_02",
         "Butchers",
         "Item_12_BUT",
         "21.5",
         "2.0",
         "43.0",
         "Credit Card",
         "Online",
         "2022-10-05",
         "False"
        ],
        [
         "3",
         "TXN_9458126",
         "CUST_06",
         "Beverages",
         "Item_16_BEV",
         "27.5",
         "9.0",
         "247.5",
         "Credit Card",
         "Online",
         "2022-05-07",
         null
        ],
        [
         "4",
         "TXN_4575373",
         "CUST_05",
         "Food",
         "Item_6_FOOD",
         "12.5",
         "7.0",
         "87.5",
         "Digital Wallet",
         "Online",
         "2022-10-02",
         "False"
        ],
        [
         "5",
         "TXN_7482416",
         "CUST_09",
         "Patisserie",
         null,
         null,
         "10.0",
         "200.0",
         "Credit Card",
         "Online",
         "2023-11-30",
         null
        ],
        [
         "6",
         "TXN_3652209",
         "CUST_07",
         "Food",
         "Item_1_FOOD",
         "5.0",
         "8.0",
         "40.0",
         "Credit Card",
         "In-store",
         "2023-06-10",
         "True"
        ],
        [
         "7",
         "TXN_1372952",
         "CUST_21",
         "Furniture",
         null,
         "33.5",
         null,
         null,
         "Digital Wallet",
         "In-store",
         "2024-04-02",
         "True"
        ],
        [
         "8",
         "TXN_9728486",
         "CUST_23",
         "Furniture",
         "Item_16_FUR",
         "27.5",
         "1.0",
         "27.5",
         "Credit Card",
         "In-store",
         "2023-04-26",
         "False"
        ],
        [
         "9",
         "TXN_2722661",
         "CUST_25",
         "Butchers",
         "Item_22_BUT",
         "36.5",
         "3.0",
         "109.5",
         "Cash",
         "Online",
         "2024-03-14",
         "False"
        ]
       ],
       "shape": {
        "columns": 11,
        "rows": 10
       }
      },
      "text/html": [
       "<div>\n",
       "<style scoped>\n",
       "    .dataframe tbody tr th:only-of-type {\n",
       "        vertical-align: middle;\n",
       "    }\n",
       "\n",
       "    .dataframe tbody tr th {\n",
       "        vertical-align: top;\n",
       "    }\n",
       "\n",
       "    .dataframe thead th {\n",
       "        text-align: right;\n",
       "    }\n",
       "</style>\n",
       "<table border=\"1\" class=\"dataframe\">\n",
       "  <thead>\n",
       "    <tr style=\"text-align: right;\">\n",
       "      <th></th>\n",
       "      <th>Transaction ID</th>\n",
       "      <th>Customer ID</th>\n",
       "      <th>Category</th>\n",
       "      <th>Item</th>\n",
       "      <th>Price Per Unit</th>\n",
       "      <th>Quantity</th>\n",
       "      <th>Total Spent</th>\n",
       "      <th>Payment Method</th>\n",
       "      <th>Location</th>\n",
       "      <th>Transaction Date</th>\n",
       "      <th>Discount Applied</th>\n",
       "    </tr>\n",
       "  </thead>\n",
       "  <tbody>\n",
       "    <tr>\n",
       "      <th>0</th>\n",
       "      <td>TXN_6867343</td>\n",
       "      <td>CUST_09</td>\n",
       "      <td>Patisserie</td>\n",
       "      <td>Item_10_PAT</td>\n",
       "      <td>18.5</td>\n",
       "      <td>10.0</td>\n",
       "      <td>185.0</td>\n",
       "      <td>Digital Wallet</td>\n",
       "      <td>Online</td>\n",
       "      <td>2024-04-08</td>\n",
       "      <td>True</td>\n",
       "    </tr>\n",
       "    <tr>\n",
       "      <th>1</th>\n",
       "      <td>TXN_3731986</td>\n",
       "      <td>CUST_22</td>\n",
       "      <td>Milk Products</td>\n",
       "      <td>Item_17_MILK</td>\n",
       "      <td>29.0</td>\n",
       "      <td>9.0</td>\n",
       "      <td>261.0</td>\n",
       "      <td>Digital Wallet</td>\n",
       "      <td>Online</td>\n",
       "      <td>2023-07-23</td>\n",
       "      <td>True</td>\n",
       "    </tr>\n",
       "    <tr>\n",
       "      <th>2</th>\n",
       "      <td>TXN_9303719</td>\n",
       "      <td>CUST_02</td>\n",
       "      <td>Butchers</td>\n",
       "      <td>Item_12_BUT</td>\n",
       "      <td>21.5</td>\n",
       "      <td>2.0</td>\n",
       "      <td>43.0</td>\n",
       "      <td>Credit Card</td>\n",
       "      <td>Online</td>\n",
       "      <td>2022-10-05</td>\n",
       "      <td>False</td>\n",
       "    </tr>\n",
       "    <tr>\n",
       "      <th>3</th>\n",
       "      <td>TXN_9458126</td>\n",
       "      <td>CUST_06</td>\n",
       "      <td>Beverages</td>\n",
       "      <td>Item_16_BEV</td>\n",
       "      <td>27.5</td>\n",
       "      <td>9.0</td>\n",
       "      <td>247.5</td>\n",
       "      <td>Credit Card</td>\n",
       "      <td>Online</td>\n",
       "      <td>2022-05-07</td>\n",
       "      <td>NaN</td>\n",
       "    </tr>\n",
       "    <tr>\n",
       "      <th>4</th>\n",
       "      <td>TXN_4575373</td>\n",
       "      <td>CUST_05</td>\n",
       "      <td>Food</td>\n",
       "      <td>Item_6_FOOD</td>\n",
       "      <td>12.5</td>\n",
       "      <td>7.0</td>\n",
       "      <td>87.5</td>\n",
       "      <td>Digital Wallet</td>\n",
       "      <td>Online</td>\n",
       "      <td>2022-10-02</td>\n",
       "      <td>False</td>\n",
       "    </tr>\n",
       "    <tr>\n",
       "      <th>5</th>\n",
       "      <td>TXN_7482416</td>\n",
       "      <td>CUST_09</td>\n",
       "      <td>Patisserie</td>\n",
       "      <td>NaN</td>\n",
       "      <td>NaN</td>\n",
       "      <td>10.0</td>\n",
       "      <td>200.0</td>\n",
       "      <td>Credit Card</td>\n",
       "      <td>Online</td>\n",
       "      <td>2023-11-30</td>\n",
       "      <td>NaN</td>\n",
       "    </tr>\n",
       "    <tr>\n",
       "      <th>6</th>\n",
       "      <td>TXN_3652209</td>\n",
       "      <td>CUST_07</td>\n",
       "      <td>Food</td>\n",
       "      <td>Item_1_FOOD</td>\n",
       "      <td>5.0</td>\n",
       "      <td>8.0</td>\n",
       "      <td>40.0</td>\n",
       "      <td>Credit Card</td>\n",
       "      <td>In-store</td>\n",
       "      <td>2023-06-10</td>\n",
       "      <td>True</td>\n",
       "    </tr>\n",
       "    <tr>\n",
       "      <th>7</th>\n",
       "      <td>TXN_1372952</td>\n",
       "      <td>CUST_21</td>\n",
       "      <td>Furniture</td>\n",
       "      <td>NaN</td>\n",
       "      <td>33.5</td>\n",
       "      <td>NaN</td>\n",
       "      <td>NaN</td>\n",
       "      <td>Digital Wallet</td>\n",
       "      <td>In-store</td>\n",
       "      <td>2024-04-02</td>\n",
       "      <td>True</td>\n",
       "    </tr>\n",
       "    <tr>\n",
       "      <th>8</th>\n",
       "      <td>TXN_9728486</td>\n",
       "      <td>CUST_23</td>\n",
       "      <td>Furniture</td>\n",
       "      <td>Item_16_FUR</td>\n",
       "      <td>27.5</td>\n",
       "      <td>1.0</td>\n",
       "      <td>27.5</td>\n",
       "      <td>Credit Card</td>\n",
       "      <td>In-store</td>\n",
       "      <td>2023-04-26</td>\n",
       "      <td>False</td>\n",
       "    </tr>\n",
       "    <tr>\n",
       "      <th>9</th>\n",
       "      <td>TXN_2722661</td>\n",
       "      <td>CUST_25</td>\n",
       "      <td>Butchers</td>\n",
       "      <td>Item_22_BUT</td>\n",
       "      <td>36.5</td>\n",
       "      <td>3.0</td>\n",
       "      <td>109.5</td>\n",
       "      <td>Cash</td>\n",
       "      <td>Online</td>\n",
       "      <td>2024-03-14</td>\n",
       "      <td>False</td>\n",
       "    </tr>\n",
       "  </tbody>\n",
       "</table>\n",
       "</div>"
      ],
      "text/plain": [
       "  Transaction ID Customer ID       Category          Item  Price Per Unit  \\\n",
       "0    TXN_6867343     CUST_09     Patisserie   Item_10_PAT            18.5   \n",
       "1    TXN_3731986     CUST_22  Milk Products  Item_17_MILK            29.0   \n",
       "2    TXN_9303719     CUST_02       Butchers   Item_12_BUT            21.5   \n",
       "3    TXN_9458126     CUST_06      Beverages   Item_16_BEV            27.5   \n",
       "4    TXN_4575373     CUST_05           Food   Item_6_FOOD            12.5   \n",
       "5    TXN_7482416     CUST_09     Patisserie           NaN             NaN   \n",
       "6    TXN_3652209     CUST_07           Food   Item_1_FOOD             5.0   \n",
       "7    TXN_1372952     CUST_21      Furniture           NaN            33.5   \n",
       "8    TXN_9728486     CUST_23      Furniture   Item_16_FUR            27.5   \n",
       "9    TXN_2722661     CUST_25       Butchers   Item_22_BUT            36.5   \n",
       "\n",
       "   Quantity  Total Spent  Payment Method  Location Transaction Date  \\\n",
       "0      10.0        185.0  Digital Wallet    Online       2024-04-08   \n",
       "1       9.0        261.0  Digital Wallet    Online       2023-07-23   \n",
       "2       2.0         43.0     Credit Card    Online       2022-10-05   \n",
       "3       9.0        247.5     Credit Card    Online       2022-05-07   \n",
       "4       7.0         87.5  Digital Wallet    Online       2022-10-02   \n",
       "5      10.0        200.0     Credit Card    Online       2023-11-30   \n",
       "6       8.0         40.0     Credit Card  In-store       2023-06-10   \n",
       "7       NaN          NaN  Digital Wallet  In-store       2024-04-02   \n",
       "8       1.0         27.5     Credit Card  In-store       2023-04-26   \n",
       "9       3.0        109.5            Cash    Online       2024-03-14   \n",
       "\n",
       "  Discount Applied  \n",
       "0             True  \n",
       "1             True  \n",
       "2            False  \n",
       "3              NaN  \n",
       "4            False  \n",
       "5              NaN  \n",
       "6             True  \n",
       "7             True  \n",
       "8            False  \n",
       "9            False  "
      ]
     },
     "execution_count": 3,
     "metadata": {},
     "output_type": "execute_result"
    }
   ],
   "source": [
    "# check the first few rows of the data\n",
    "data.head(10)"
   ]
  },
  {
   "cell_type": "code",
   "execution_count": 4,
   "metadata": {},
   "outputs": [
    {
     "data": {
      "text/plain": [
       "Transaction ID         0\n",
       "Customer ID            0\n",
       "Category               0\n",
       "Item                1213\n",
       "Price Per Unit       609\n",
       "Quantity             604\n",
       "Total Spent          604\n",
       "Payment Method         0\n",
       "Location               0\n",
       "Transaction Date       0\n",
       "Discount Applied    4199\n",
       "dtype: int64"
      ]
     },
     "execution_count": 4,
     "metadata": {},
     "output_type": "execute_result"
    }
   ],
   "source": [
    "# check the missing values\n",
    "\n",
    "data.isnull().sum()"
   ]
  },
  {
   "cell_type": "code",
   "execution_count": 5,
   "metadata": {},
   "outputs": [
    {
     "data": {
      "text/plain": [
       "Transaction ID       object\n",
       "Customer ID          object\n",
       "Category             object\n",
       "Item                 object\n",
       "Price Per Unit      float64\n",
       "Quantity            float64\n",
       "Total Spent         float64\n",
       "Payment Method       object\n",
       "Location             object\n",
       "Transaction Date     object\n",
       "Discount Applied     object\n",
       "dtype: object"
      ]
     },
     "execution_count": 5,
     "metadata": {},
     "output_type": "execute_result"
    }
   ],
   "source": [
    "# Check the data types of the columns\n",
    "\n",
    "data.dtypes"
   ]
  },
  {
   "cell_type": "markdown",
   "metadata": {},
   "source": [
    "### Why the Data Contains Nulls in Certain Columns\n",
    "\n",
    "The dataset contains null values in several columns, which can be attributed to various reasons:\n",
    "\n",
    "1. **Item**: This column has null values possibly because some transactions might not have a specific item associated with them, or the item information was not recorded.\n",
    "\n",
    "2. **Price Per Unit**: Null values in this column could indicate that the price information was not available or not applicable for certain transactions.\n",
    "\n",
    "3. **Quantity**: Similar to the price per unit, the quantity might not have been recorded for some transactions, leading to null values.\n",
    "\n",
    "4. **Total Spent**: If either the price per unit or quantity is missing, the total spent cannot be calculated, resulting in null values in this column.\n",
    "\n",
    "5. **Discount Applied**: This column has null values likely because not all transactions had discounts applied, or the discount information was not recorded.\n",
    "\n",
    "These null values can arise due to data entry errors, missing information at the time of transaction, or specific business rules that do not require certain fields to be filled for some transactions."
   ]
  }
 ],
 "metadata": {
  "kernelspec": {
   "display_name": "base",
   "language": "python",
   "name": "python3"
  },
  "language_info": {
   "codemirror_mode": {
    "name": "ipython",
    "version": 3
   },
   "file_extension": ".py",
   "mimetype": "text/x-python",
   "name": "python",
   "nbconvert_exporter": "python",
   "pygments_lexer": "ipython3",
   "version": "3.12.7"
  }
 },
 "nbformat": 4,
 "nbformat_minor": 2
}
